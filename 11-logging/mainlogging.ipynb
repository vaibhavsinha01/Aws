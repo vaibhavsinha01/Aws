{
 "cells": [
  {
   "cell_type": "code",
   "execution_count": 1,
   "metadata": {},
   "outputs": [],
   "source": [
    "import logging  # Missing in your code\n",
    "\n",
    "# Properly configure logging\n",
    "logging.basicConfig(\n",
    "    filename = r'C:\\Users\\vaibh\\OneDrive\\Desktop\\New folder\\Folder Python\\Folder DataScience\\Project MLOPSLearning\\app.log',\n",
    "    filemode = 'w',\n",
    "    level=logging.DEBUG,\n",
    "    format='%(asctime)s - %(name)s - %(levelname)s - %(message)s',\n",
    "    datefmt='%Y-%m-%d %H:%M:%S'\n",
    ")\n",
    "\n",
    "# Correctly separated log messages\n",
    "logging.debug(\"This is a debug message\")\n",
    "logging.info(\"This is an info message\")\n",
    "logging.warning(\"This is a warning message\")\n",
    "logging.error(\"This is an error message\")\n",
    "logging.critical(\"This is a critical message\")\n"
   ]
  },
  {
   "cell_type": "code",
   "execution_count": 2,
   "metadata": {},
   "outputs": [],
   "source": [
    "# this is working for time while the first one is not \n",
    "\n",
    "import logging\n",
    "\n",
    "# Create a custom logger\n",
    "logger = logging.getLogger('custom_logger')\n",
    "logger.setLevel(logging.DEBUG)\n",
    "\n",
    "# Create a file handler\n",
    "file_handler = logging.FileHandler('app.log', mode='w')\n",
    "file_handler.setLevel(logging.DEBUG)\n",
    "\n",
    "# Define formatter and add it to the handler\n",
    "formatter = logging.Formatter(\n",
    "    '%(asctime)s - %(name)s - %(levelname)s - %(message)s',\n",
    "    datefmt='%Y-%m-%d %H:%M:%S'\n",
    ")\n",
    "file_handler.setFormatter(formatter)\n",
    "\n",
    "# Add handler to the custom logger\n",
    "logger.addHandler(file_handler)\n",
    "\n",
    "# Generate log messages\n",
    "logger.debug(\"This is a debug message\")\n",
    "logger.info(\"This is an info message\")\n",
    "logger.warning(\"This is a warning message\")\n",
    "logger.error(\"This is an error message\")\n",
    "logger.critical(\"This is a critical message\")\n",
    "\n",
    "# the codes above might not work properly could always rely on sir's code but this should normally work\n"
   ]
  },
  {
   "cell_type": "code",
   "execution_count": 1,
   "metadata": {},
   "outputs": [],
   "source": [
    "# multiple logs\n",
    "import logging\n",
    "\n",
    "logger1 = logging.getLogger(\"module1\")\n",
    "logger1.setLevel(logging.DEBUG)\n",
    "\n",
    "logger2 = logging.getLogger(\"module2\")\n",
    "logger2.setLevel(logging.WARNING)\n",
    "\n",
    "logging.basicConfig(\n",
    "    level=logging.DEBUG,\n",
    "    format='%(asctime)s - %(name)s - %(levelname)s - %(message)s',\n",
    "    datefmt='%Y-%m-%d %H:%M:%S'\n",
    ")"
   ]
  },
  {
   "cell_type": "code",
   "execution_count": 2,
   "metadata": {},
   "outputs": [
    {
     "name": "stderr",
     "output_type": "stream",
     "text": [
      "2024-12-14 10:53:51 - module1 - DEBUG - This is debug message for module1\n",
      "2024-12-14 10:53:51 - module2 - WARNING - This is a warning message for module 2\n",
      "2024-12-14 10:53:51 - module2 - ERROR - This is a error message\n"
     ]
    }
   ],
   "source": [
    "logger1.debug(\"This is debug message for module1\")\n",
    "logger2.warning(\"This is a warning message for module 2\")\n",
    "logger2.error(\"This is a error message\")"
   ]
  },
  {
   "cell_type": "code",
   "execution_count": 2,
   "metadata": {},
   "outputs": [
    {
     "name": "stderr",
     "output_type": "stream",
     "text": [
      "2024-12-14 11:01:36 - ArithematicApp - DEBUG - Adding 10+20=30\n",
      "2024-12-14 11:01:36 - ArithematicApp - DEBUG - Adding 10-5=5\n",
      "2024-12-14 11:01:36 - ArithematicApp - DEBUG - Mul 10*2=20\n"
     ]
    },
    {
     "data": {
      "text/plain": [
       "20"
      ]
     },
     "execution_count": 2,
     "metadata": {},
     "output_type": "execute_result"
    }
   ],
   "source": [
    "import logging\n",
    "\n",
    "logging.basicConfig(\n",
    "    level = logging.DEBUG,\n",
    "    format='%(asctime)s - %(name)s - %(levelname)s - %(message)s',\n",
    "    datefmt='%Y-%m-%d %H:%M:%S',\n",
    "    handlers=[\n",
    "        logging.FileHandler(\"app1.log\"),\n",
    "        logging.StreamHandler()\n",
    "    ]\n",
    ")\n",
    "\n",
    "logger = logging.getLogger(\"ArithematicApp\")\n",
    "\n",
    "def add(a,b):\n",
    "    result = a+b\n",
    "    logger.debug(f\"Adding {a}+{b}={result}\",)\n",
    "    return result\n",
    "\n",
    "def sub(a,b):\n",
    "    result = a-b\n",
    "    logger.debug(f\"Adding {a}-{b}={result}\",)\n",
    "    return result\n",
    "\n",
    "def mul(a,b):\n",
    "    result = a*b\n",
    "    logger.debug(f\"Mul {a}*{b}={result}\")\n",
    "    return result\n",
    "\n",
    "add(10,20)\n",
    "sub(10,5)\n",
    "mul(10,2)"
   ]
  },
  {
   "cell_type": "code",
   "execution_count": null,
   "metadata": {},
   "outputs": [],
   "source": []
  }
 ],
 "metadata": {
  "kernelspec": {
   "display_name": "Python 3",
   "language": "python",
   "name": "python3"
  },
  "language_info": {
   "codemirror_mode": {
    "name": "ipython",
    "version": 3
   },
   "file_extension": ".py",
   "mimetype": "text/x-python",
   "name": "python",
   "nbconvert_exporter": "python",
   "pygments_lexer": "ipython3",
   "version": "3.13.1"
  }
 },
 "nbformat": 4,
 "nbformat_minor": 2
}
