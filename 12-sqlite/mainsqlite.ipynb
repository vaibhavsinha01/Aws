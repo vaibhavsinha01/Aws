{
 "cells": [
  {
   "cell_type": "code",
   "execution_count": 1,
   "metadata": {},
   "outputs": [],
   "source": [
    "import sqlite3"
   ]
  },
  {
   "cell_type": "code",
   "execution_count": 2,
   "metadata": {},
   "outputs": [
    {
     "data": {
      "text/plain": [
       "<sqlite3.Connection at 0x1f991383100>"
      ]
     },
     "execution_count": 2,
     "metadata": {},
     "output_type": "execute_result"
    }
   ],
   "source": [
    "# connect to an sqlite database\n",
    "\n",
    "connection = sqlite3.connect('example.db')\n",
    "connection"
   ]
  },
  {
   "cell_type": "code",
   "execution_count": 3,
   "metadata": {},
   "outputs": [],
   "source": [
    "# now we will create a cursor object that will iterate through the rows\n",
    "\n",
    "cursor = connection.cursor()"
   ]
  },
  {
   "cell_type": "code",
   "execution_count": 4,
   "metadata": {},
   "outputs": [],
   "source": [
    "# table - we will create the table with the cursor object\n",
    "\n",
    "cursor.execute('''\n",
    "Create table If not Exists employees(\n",
    "     id Integer Primary Key,\n",
    "     name Text Not Null,\n",
    "     age Integer,\n",
    "     department text\n",
    "               )\n",
    "''')\n",
    "\n",
    "# commit the changes\n",
    "\n",
    "connection.commit()"
   ]
  },
  {
   "cell_type": "code",
   "execution_count": 5,
   "metadata": {},
   "outputs": [
    {
     "data": {
      "text/plain": [
       "<sqlite3.Cursor at 0x1f9915bd6c0>"
      ]
     },
     "execution_count": 5,
     "metadata": {},
     "output_type": "execute_result"
    }
   ],
   "source": [
    "cursor.execute('''\n",
    "Select * from employees\n",
    "''')"
   ]
  },
  {
   "cell_type": "code",
   "execution_count": 6,
   "metadata": {},
   "outputs": [],
   "source": [
    "# insert the data in sqlite table\n",
    "\n",
    "cursor.execute('''\n",
    "Insert into employees (name,age,department)\n",
    "               values('vaibhav',20,'Data scientist')\n",
    "''')\n",
    "\n",
    "cursor.execute('''\n",
    "Insert into employees (name,age,department)\n",
    "               values('aryaman',20,'algotrader')\n",
    "''')\n",
    "\n",
    "cursor.execute('''\n",
    "Insert into employees (name,age,department)\n",
    "               values('sarthak',18,'software engineer')\n",
    "''')\n",
    "\n",
    "connection.commit() # this will commit the changes\n"
   ]
  },
  {
   "cell_type": "code",
   "execution_count": 7,
   "metadata": {},
   "outputs": [
    {
     "name": "stdout",
     "output_type": "stream",
     "text": [
      "(1, 'vaibhav', 20, 'Data scientist')\n",
      "(2, 'aryaman', 20, 'algotrader')\n",
      "(3, 'sarthak', 18, 'software engineer')\n"
     ]
    }
   ],
   "source": [
    "# query the data from sqlite3\n",
    "\n",
    "cursor.execute('Select * from employees')\n",
    "\n",
    "rows = cursor.fetchall() \n",
    "\n",
    "# print the queried data\n",
    "\n",
    "for row in rows:\n",
    "    print(row)"
   ]
  },
  {
   "cell_type": "code",
   "execution_count": 8,
   "metadata": {},
   "outputs": [],
   "source": [
    "# update the data in the table\n",
    "\n",
    "cursor.execute('''\n",
    "UPDATE employees \n",
    "Set age = 34 where name = 'sarthak'\n",
    "''')\n",
    "\n",
    "connection.commit()"
   ]
  },
  {
   "cell_type": "code",
   "execution_count": 9,
   "metadata": {},
   "outputs": [
    {
     "name": "stdout",
     "output_type": "stream",
     "text": [
      "(1, 'vaibhav', 20, 'Data scientist')\n",
      "(2, 'aryaman', 20, 'algotrader')\n",
      "(3, 'sarthak', 34, 'software engineer')\n"
     ]
    }
   ],
   "source": [
    "cursor.execute('Select * from employees')\n",
    "\n",
    "rows = cursor.fetchall()\n",
    "\n",
    "for row in rows:\n",
    "    print(row)"
   ]
  },
  {
   "cell_type": "code",
   "execution_count": 10,
   "metadata": {},
   "outputs": [
    {
     "data": {
      "text/plain": [
       "<sqlite3.Cursor at 0x1f9915bd6c0>"
      ]
     },
     "execution_count": 10,
     "metadata": {},
     "output_type": "execute_result"
    }
   ],
   "source": [
    "# delete the data from the table\n",
    "\n",
    "cursor.execute('''\n",
    "Delete from employees\n",
    "               where name = 'aryaman'\n",
    "''')"
   ]
  },
  {
   "cell_type": "code",
   "execution_count": 11,
   "metadata": {},
   "outputs": [
    {
     "name": "stdout",
     "output_type": "stream",
     "text": [
      "(1, 'vaibhav', 20, 'Data scientist')\n",
      "(3, 'sarthak', 34, 'software engineer')\n"
     ]
    }
   ],
   "source": [
    "cursor.execute('Select * from employees')\n",
    "rows = cursor.fetchall()\n",
    "\n",
    "for row in rows:\n",
    "    print(row)"
   ]
  },
  {
   "cell_type": "code",
   "execution_count": 12,
   "metadata": {},
   "outputs": [
    {
     "data": {
      "text/plain": [
       "<sqlite3.Cursor at 0x1f9915bd6c0>"
      ]
     },
     "execution_count": 12,
     "metadata": {},
     "output_type": "execute_result"
    }
   ],
   "source": [
    "cursor.execute('''\n",
    "Insert into employees (name,age,department) values ('dj',19,'finance')\n",
    "''')"
   ]
  },
  {
   "cell_type": "code",
   "execution_count": 14,
   "metadata": {},
   "outputs": [
    {
     "name": "stdout",
     "output_type": "stream",
     "text": [
      "(1, 'vaibhav', 20, 'Data scientist')\n",
      "(3, 'sarthak', 34, 'software engineer')\n",
      "(4, 'dj', 19, 'finance')\n"
     ]
    }
   ],
   "source": [
    "cursor.execute('Select * from employees')\n",
    "rows = cursor.fetchall()\n",
    "\n",
    "for row in rows:\n",
    "    print(row)"
   ]
  },
  {
   "cell_type": "code",
   "execution_count": 17,
   "metadata": {},
   "outputs": [
    {
     "name": "stdout",
     "output_type": "stream",
     "text": [
      "(3, 'sarthak', 34, 'software engineer')\n",
      "(1, 'vaibhav', 20, 'Data scientist')\n",
      "(4, 'dj', 19, 'finance')\n"
     ]
    }
   ],
   "source": [
    "cursor.execute('SELECT * FROM employees WHERE age > 18 ORDER BY age DESC')\n",
    "\n",
    "rows = cursor.fetchall()\n",
    "\n",
    "for row in rows:\n",
    "    print(row)\n",
    "\n",
    "connection.commit()"
   ]
  },
  {
   "cell_type": "code",
   "execution_count": 20,
   "metadata": {},
   "outputs": [
    {
     "name": "stdout",
     "output_type": "stream",
     "text": [
      "[(3, 'sarthak', 34, 'software engineer'), (1, 'vaibhav', 20, 'Data scientist'), (4, 'dj', 19, 'finance')]\n",
      "(4, 'dj', 19, 'finance')\n"
     ]
    }
   ],
   "source": [
    "cursor.execute('SELECT * FROM employees WHERE age>18 ORDER BY age DESC')\n",
    "rows = cursor.fetchall()\n",
    "print(rows)\n",
    "\n",
    "\n",
    "cursor.execute('SELECT * FROM employees WHERE age>18 ORDER BY age ASC')\n",
    "row = cursor.fetchone()\n",
    "print(row)\n",
    "\n",
    "connection.commit()"
   ]
  },
  {
   "cell_type": "code",
   "execution_count": null,
   "metadata": {},
   "outputs": [],
   "source": []
  }
 ],
 "metadata": {
  "kernelspec": {
   "display_name": "Python 3",
   "language": "python",
   "name": "python3"
  },
  "language_info": {
   "codemirror_mode": {
    "name": "ipython",
    "version": 3
   },
   "file_extension": ".py",
   "mimetype": "text/x-python",
   "name": "python",
   "nbconvert_exporter": "python",
   "pygments_lexer": "ipython3",
   "version": "3.13.1"
  }
 },
 "nbformat": 4,
 "nbformat_minor": 2
}
